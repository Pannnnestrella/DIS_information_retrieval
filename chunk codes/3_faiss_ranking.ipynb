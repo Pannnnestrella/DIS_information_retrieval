{
 "cells": [
  {
   "cell_type": "markdown",
   "metadata": {},
   "source": [
    "## 3_faiss_ranking.ipynb\n",
    "\n",
    "This notebook implements a FAISS-based ranking system for retrieving the most relevant documents for given queries. The workflow includes:\n",
    "1. Loading document and query embeddings.\n",
    "2. Building a FAISS index for fast nearest-neighbor search.\n",
    "3. Retrieving the top-k most relevant documents for each query based on cosine similarity or L2 distance.\n",
    "4. Associating and displaying the results with query and document IDs.\n",
    "\n",
    "### Output\n",
    "- A dictionary `results` containing query IDs as keys and a list of top document IDs with their distances as values.\n",
    "\n",
    "### Notes\n",
    "- FAISS is optimized for large-scale similarity searches, making it suitable for handling large datasets.\n",
    "- The default `IndexFlatL2`"
   ]
  },
  {
   "cell_type": "code",
   "execution_count": null,
   "metadata": {},
   "outputs": [],
   "source": [
    "import faiss\n",
    "import numpy as np\n",
    "import pickle\n",
    "\n",
    "from collections import defaultdict\n",
    "from FlagEmbedding import FlagModel"
   ]
  },
  {
   "cell_type": "code",
   "execution_count": null,
   "metadata": {},
   "outputs": [],
   "source": [
    "# Vector for loading documents\n",
    "with open('../pkl/m3_chunk_128/m3_chunk_128_embedding_1.pkl', 'rb') as f:\n",
    "    doc_embeddings_dict = pickle.load(f)\n",
    "doc_ids = list(doc_embeddings_dict.keys())\n",
    "doc_embeddings = np.array([doc_embeddings_dict[doc_id] for doc_id in doc_ids]).astype('float32')\n",
    "del doc_embeddings_dict"
   ]
  },
  {
   "cell_type": "code",
   "execution_count": null,
   "metadata": {},
   "outputs": [],
   "source": [
    "%%time\n",
    "\n",
    "# Load the test queries\n",
    "test_path = '../dataset/test.csv'\n",
    "test_df = pd.read_csv(test_path)\n",
    "\n",
    "# Load the model\n",
    "model = FlagModel('BAAI/bge-m3',\n",
    "                  query_instruction_for_retrieval=\"Represent this sentence for searching relevant passages:\",\n",
    "                  use_fp16=True)\n",
    "\n",
    "# Embed the test queries\n",
    "queries = test_df['query'].tolist()\n",
    "query_ids = test_df['id'].tolist()\n",
    "query_embeddings = model.encode(queries).astype('float32')"
   ]
  },
  {
   "cell_type": "code",
   "execution_count": null,
   "metadata": {},
   "outputs": [],
   "source": [
    "# Get vector dimensions\n",
    "d = doc_embeddings.shape[1]\n",
    "# Initialise the FAISS index\n",
    "index = faiss.IndexFlatL2(d)\n",
    "# Add document vectors to the index\n",
    "index.add(doc_embeddings)\n",
    "print(f\"Added {index.ntotal} document vectors to the index\")"
   ]
  },
  {
   "cell_type": "code",
   "execution_count": null,
   "metadata": {},
   "outputs": [],
   "source": [
    "# Search the top 10 most relevant documents for each query vector\n",
    "k = 10 \n",
    "distances, indices = index.search(query_embeddings, k)\n",
    "\n",
    "# Associate results with query IDs and document IDs\n",
    "results = {}\n",
    "for i, query_id in enumerate(query_ids):\n",
    "    results[query_id] = [(doc_ids[indices[i][j]], distances[i][j]) for j in range(k)]"
   ]
  },
  {
   "cell_type": "code",
   "execution_count": null,
   "metadata": {},
   "outputs": [],
   "source": [
    "for query_id, docs in list(results.items())[:5]:  # Display the results of the first 5 queries\n",
    "    print(f\"查询ID: {query_id}\")\n",
    "    for doc_id, distance in docs:\n",
    "        print(f\"    文档ID: {doc_id}, 距离: {distance}\")\n",
    "    print()"
   ]
  },
  {
   "cell_type": "code",
   "execution_count": null,
   "metadata": {},
   "outputs": [],
   "source": []
  }
 ],
 "metadata": {
  "kernelspec": {
   "display_name": "kaggle",
   "language": "python",
   "name": "python3"
  },
  "language_info": {
   "codemirror_mode": {
    "name": "ipython",
    "version": 3
   },
   "file_extension": ".py",
   "mimetype": "text/x-python",
   "name": "python",
   "nbconvert_exporter": "python",
   "pygments_lexer": "ipython3",
   "version": "3.8.20"
  }
 },
 "nbformat": 4,
 "nbformat_minor": 2
}
