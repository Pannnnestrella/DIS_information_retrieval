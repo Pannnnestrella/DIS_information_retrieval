{
 "cells": [
  {
   "cell_type": "code",
   "execution_count": null,
   "metadata": {},
   "outputs": [],
   "source": [
    "# Consolidation of all documents\n",
    "import pickle\n",
    "import os\n",
    "\n",
    "def load_in_chunks(file_path, chunk_size=100000):\n",
    "    \"\"\"\n",
    "    Step-by-step loading of large files, using generators to save memory\n",
    "    :param file_path: file path\n",
    "    :param chunk_size: number of entries per load\n",
    "    \"\"\"\n",
    "    with open(file_path, 'rb') as f:\n",
    "        try:\n",
    "            while True:\n",
    "                chunk = []\n",
    "                for _ in range(chunk_size):\n",
    "                    try:\n",
    "                        item = pickle.load(f)\n",
    "                        chunk.append(item)\n",
    "                    except EOFError:\n",
    "                        break\n",
    "                if chunk:\n",
    "                    yield chunk\n",
    "                else:\n",
    "                    break\n",
    "        except EOFError:\n",
    "            pass\n",
    "\n",
    "def merge_and_save(file_paths, output_file, chunk_size=100000):\n",
    "    \"\"\"\n",
    "    Merge multiple large files and save them to the output file\n",
    "    :param file_paths: list of paths of files to be merged\n",
    "    :param output_file: output path of merged files\n",
    "    :param chunk_size: number of entries to process at a time\n",
    "    \"\"\"\n",
    "    total_size = sum(os.path.getsize(file) for file in file_paths)\n",
    "    processed_size = 0\n",
    "\n",
    "    with open(output_file, 'wb') as out_f:\n",
    "        for file_path in file_paths:\n",
    "            for chunk in load_in_chunks(file_path, chunk_size):\n",
    "                # Merge the current chunk into the main dictionary\n",
    "                for data in chunk:\n",
    "                    # Update merge logic\n",
    "                    if isinstance(data, dict):\n",
    "                        pickle.dump(data, out_f)\n",
    "                processed_size += os.path.getsize(file_path)\n",
    "                progress = processed_size / total_size * 100\n",
    "                print(f\"Processed {processed_size} bytes of {total_size} bytes ({progress:.2f}%)\")"
   ]
  },
  {
   "cell_type": "code",
   "execution_count": 3,
   "metadata": {},
   "outputs": [
    {
     "name": "stdout",
     "output_type": "stream",
     "text": [
      "Processed 5756980926 bytes of 28784337326 bytes (20.00%)\n",
      "Processed 11514972412 bytes of 28784337326 bytes (40.00%)\n",
      "Processed 17272440874 bytes of 28784337326 bytes (60.01%)\n",
      "Processed 23028652099 bytes of 28784337326 bytes (80.00%)\n",
      "Processed 28784337326 bytes of 28784337326 bytes (100.00%)\n"
     ]
    }
   ],
   "source": [
    "# List of file paths\n",
    "file_paths = [f'../pkl/m3_chunk_512/m3_chunk_512_embedding_{i}.pkl' for i in range(1,6)]\n",
    "output_file = './512_merged_chunk_embedding.pkl'\n",
    "\n",
    "merge_and_save(file_paths, output_file,chunk_size= 1024 * 1024)"
   ]
  },
  {
   "cell_type": "code",
   "execution_count": 1,
   "metadata": {},
   "outputs": [],
   "source": [
    "import pickle\n",
    "import numpy as np\n",
    "# Load the .pkl file\n",
    "with open('../pkl/m3_chunk_512/m3_chunk_512_embedding_1.pkl', 'rb') as file:\n",
    "    doc_embeddings_dict = pickle.load(file)\n",
    "    doc_ids = list(doc_embeddings_dict.keys())\n",
    "    doc_embeddings = np.array([doc_embeddings_dict[doc_id] for doc_id in doc_ids])"
   ]
  },
  {
   "cell_type": "code",
   "execution_count": 2,
   "metadata": {},
   "outputs": [
    {
     "name": "stdout",
     "output_type": "stream",
     "text": [
      "2732821\n",
      "First value: doc-en-9633_chunk_0\n",
      "1024\n",
      "['doc-en-9633_chunk_0', 'doc-en-9633_chunk_1', 'doc-en-9633_chunk_2', 'doc-en-9633_chunk_3', 'doc-en-9633_chunk_4']\n"
     ]
    }
   ],
   "source": [
    "print(len(doc_embeddings_dict.keys()))\n",
    "\n",
    "first_value = next(iter(doc_embeddings_dict.keys()))\n",
    "print(f\"First value: {first_value}\")\n",
    "print(len(doc_embeddings_dict[first_value]))\n",
    "\n",
    "keys_array = list(doc_embeddings_dict.keys())\n",
    "print(keys_array[:5])"
   ]
  },
  {
   "cell_type": "code",
   "execution_count": null,
   "metadata": {},
   "outputs": [],
   "source": []
  }
 ],
 "metadata": {
  "kernelspec": {
   "display_name": "kaggle",
   "language": "python",
   "name": "python3"
  },
  "language_info": {
   "codemirror_mode": {
    "name": "ipython",
    "version": 3
   },
   "file_extension": ".py",
   "mimetype": "text/x-python",
   "name": "python",
   "nbconvert_exporter": "python",
   "pygments_lexer": "ipython3",
   "version": "3.8.20"
  }
 },
 "nbformat": 4,
 "nbformat_minor": 2
}
