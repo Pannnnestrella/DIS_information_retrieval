{
 "cells": [
  {
   "cell_type": "code",
   "execution_count": null,
   "metadata": {},
   "outputs": [],
   "source": [
    "import pickle\n",
    "import os\n",
    "\n",
    "input_files = [f'../pkl/m3_chunk_512/m3_chunk_512_embedding_{i}.pkl' for i in range(1, 6)]\n",
    "output_dir = '../pkl/m3_chunk_512/output_chunks'\n",
    "os.makedirs(output_dir, exist_ok=True)"
   ]
  },
  {
   "cell_type": "code",
   "execution_count": null,
   "metadata": {},
   "outputs": [],
   "source": [
    "# Read each file and divide it into five\n",
    "for idx, file in enumerate(input_files, 1):\n",
    "    # Read .pkl files\n",
    "    with open(file, 'rb') as f:\n",
    "        data_dict = pickle.load(f)\n",
    "\n",
    "    # Calculate the size of each portion\n",
    "    total_items = len(data_dict)\n",
    "    chunk_size = total_items // 5  # Split evenly into five\n",
    "    keys = list(data_dict.keys())\n",
    "\n",
    "    for part in range(5):\n",
    "        # Determine the key for the current chunk\n",
    "        start_index = part * chunk_size\n",
    "        end_index = (part + 1) * chunk_size if part < 4 else total_items\n",
    "        chunk_keys = keys[start_index:end_index]\n",
    "        \n",
    "        # Construct chunked dictionaries\n",
    "        chunk_dict = {k: data_dict[k] for k in chunk_keys}\n",
    "\n",
    "        # Save chunks to a new file\n",
    "        output_filename = os.path.join(output_dir, f'm3_chunk_512_embedding_{idx}_part_{part+1}.pkl')\n",
    "        with open(output_filename, 'wb') as out_f:\n",
    "            pickle.dump(chunk_dict, out_f)\n",
    "\n",
    "print(\"File splitting is complete, generating a total of 25 files.\")\n"
   ]
  }
 ],
 "metadata": {
  "kernelspec": {
   "display_name": "kaggle",
   "language": "python",
   "name": "python3"
  },
  "language_info": {
   "codemirror_mode": {
    "name": "ipython",
    "version": 3
   },
   "file_extension": ".py",
   "mimetype": "text/x-python",
   "name": "python",
   "nbconvert_exporter": "python",
   "pygments_lexer": "ipython3",
   "version": "3.8.20"
  }
 },
 "nbformat": 4,
 "nbformat_minor": 2
}
