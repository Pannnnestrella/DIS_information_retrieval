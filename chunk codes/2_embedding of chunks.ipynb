{
 "cells": [
  {
   "cell_type": "markdown",
   "metadata": {},
   "source": [
    "## 2_embedding of chunks.ipynb\n",
    "\n",
    "This notebook processes and embeds text chunks using a pre-trained model. The workflow involves:\n",
    "1. Loading chunked JSON files containing document text.\n",
    "2. Encoding the text into embeddings using the Model.\n",
    "3. Saving the embeddings as `.pkl` files for efficient storage and retrieval.\n",
    "4. Optionally merging all embedding files into a single `.pkl` file.\n",
    "\n",
    "### Output\n",
    "- Separate `.pkl` files for each chunked JSON input file, named in the format `m3_chunk_<chunksize>_embedding_<index>.pkl`.\n",
    "- A merged `.pkl` file containing all embeddings, if enabled.\n",
    "\n",
    "### Notes\n",
    "- The embeddings are computed in batches (default batch size: 128) to optimize memory usage.\n",
    "- The merged `.pkl` file is created by combining individual `.pkl` files, allowing for batch processing."
   ]
  },
  {
   "cell_type": "code",
   "execution_count": 2,
   "metadata": {},
   "outputs": [
    {
     "name": "stderr",
     "output_type": "stream",
     "text": [
      "c:\\Users\\15163\\.conda\\envs\\kaggle\\lib\\site-packages\\tqdm\\auto.py:21: TqdmWarning: IProgress not found. Please update jupyter and ipywidgets. See https://ipywidgets.readthedocs.io/en/stable/user_install.html\n",
      "  from .autonotebook import tqdm as notebook_tqdm\n"
     ]
    }
   ],
   "source": [
    "import torch\n",
    "import pandas as pd\n",
    "import numpy as np\n",
    "import pickle\n",
    "import json\n",
    "\n",
    "from FlagEmbedding import FlagModel"
   ]
  },
  {
   "cell_type": "code",
   "execution_count": 3,
   "metadata": {},
   "outputs": [
    {
     "name": "stdout",
     "output_type": "stream",
     "text": [
      "Using device: cuda\n"
     ]
    }
   ],
   "source": [
    "if torch.cuda.is_available():\n",
    "    device = \"cuda\"\n",
    "else:\n",
    "    device = \"cpu\"\n",
    "\n",
    "print(f\"Using device: {device}\")"
   ]
  },
  {
   "cell_type": "code",
   "execution_count": 4,
   "metadata": {},
   "outputs": [],
   "source": [
    "model = FlagModel('BAAI/bge-m3',\n",
    "                  query_instruction_for_retrieval=\"Represent this sentence for searching relevant passages:\",\n",
    "                  use_fp16=True)"
   ]
  },
  {
   "cell_type": "code",
   "execution_count": null,
   "metadata": {},
   "outputs": [],
   "source": [
    "def process_and_save_embedding(corpus_path, output_path):\n",
    "    # Load dataset\n",
    "    with open(corpus_path, 'r') as f:\n",
    "        corpus = json.load(f)\n",
    "    \n",
    "    # Extract ID and text\n",
    "    chunk_ids = list(corpus.keys())\n",
    "    chunk_texts = list(corpus.values())\n",
    "    \n",
    "    # Encoded text\n",
    "    chunk_embedding = model.encode(chunk_texts, batch_size=128)\n",
    "    \n",
    "    # Store IDs and embedding results in a dictionary\n",
    "    chunk_embedding_dict = {chunk_id: embedding for chunk_id, embedding in zip(chunk_ids, chunk_embedding)}\n",
    "    \n",
    "    # Save the result as a pickle file\n",
    "    with open(output_path, 'wb') as f:\n",
    "        pickle.dump(chunk_embedding_dict, f)\n",
    "    \n",
    "    # Delete temporary variables to save memory\n",
    "    del corpus, chunk_ids, chunk_texts, chunk_embedding, chunk_embedding_dict"
   ]
  },
  {
   "cell_type": "code",
   "execution_count": null,
   "metadata": {},
   "outputs": [
    {
     "name": "stderr",
     "output_type": "stream",
     "text": [
      "Inference Embeddings: 100%|██████████| 21351/21351 [4:00:17<00:00,  1.48it/s]  \n"
     ]
    },
    {
     "name": "stdout",
     "output_type": "stream",
     "text": [
      "Processed and saved embeddings for file_5 as ./m3_chunk_512_embedding_5.pkl\n"
     ]
    }
   ],
   "source": [
    "# Loop through each file\n",
    "filenum = 5\n",
    "for i in range(1,6):\n",
    "    corpus_path = f'../chunk_embedding/chunk_512/chunk_doc_512_{i}.json'\n",
    "    output_path = f'./m3_chunk_512_embedding_{i}.pkl'\n",
    "    process_and_save_embedding(corpus_path, output_path)\n",
    "    print(f\"Processed and saved embeddings for file_{i} as {output_path}\")"
   ]
  },
  {
   "cell_type": "markdown",
   "metadata": {},
   "source": [
    "Clear memory / Restart"
   ]
  },
  {
   "cell_type": "code",
   "execution_count": null,
   "metadata": {},
   "outputs": [],
   "source": [
    "import pickle\n",
    "import glob\n",
    "\n",
    "# Get paths to all pickle files\n",
    "file_paths = glob.glob('../pkl/m3_chunk_512/m3_chunk_512_embedding_*.pkl')\n",
    "\n",
    "# Create a file to store the merged data\n",
    "with open('./m3_chunk_512_embedding.pkl', 'wb') as f_out:\n",
    "    # Iterate through each document\n",
    "    for file_path in file_paths:\n",
    "        with open(file_path, 'rb') as f_in:\n",
    "            # Load data one file at a time\n",
    "            chunk_embedding_dict = pickle.load(f_in)\n",
    "            # Write to output file key-value pair by key-value pair\n",
    "            for key, value in chunk_embedding_dict.items():\n",
    "                # Chunked writes using pickle protocol\n",
    "                pickle.dump({key: value}, f_out, protocol=pickle.HIGHEST_PROTOCOL)\n",
    "\n",
    "print(\"All embeddings have been merged and saved in batches.\")"
   ]
  },
  {
   "cell_type": "markdown",
   "metadata": {},
   "source": [
    "Load all chunked documents directly and encode them"
   ]
  },
  {
   "cell_type": "code",
   "execution_count": 5,
   "metadata": {},
   "outputs": [],
   "source": [
    "# Load the dataset\n",
    "corpus_path = '../chunk_embedding/chunk_doc_128.json'\n",
    "\n",
    "# Load the corpus data\n",
    "with open(corpus_path, 'r') as f:\n",
    "    corpus = json.load(f)\n",
    "\n",
    "chunk_ids = list(corpus.keys())\n",
    "chunk_texts = list(corpus.values())"
   ]
  },
  {
   "cell_type": "code",
   "execution_count": null,
   "metadata": {},
   "outputs": [],
   "source": [
    "# batch_size to match the device (usually 128 64 is better)\n",
    "chunk_embedding = model.encode(chunk_texts,batch_size=128)"
   ]
  },
  {
   "cell_type": "code",
   "execution_count": null,
   "metadata": {},
   "outputs": [],
   "source": [
    "# save result to pickle\n",
    "chunk_embedding_dict = {chunk_id: embedding for chunk_id, embedding in zip(chunk_ids, chunk_embedding)}\n",
    "with open('./m3_chunk_128_embedding.pkl', 'wb') as f:\n",
    "    pickle.dump(chunk_embedding_dict, f)"
   ]
  }
 ],
 "metadata": {
  "kernelspec": {
   "display_name": "kaggle",
   "language": "python",
   "name": "python3"
  },
  "language_info": {
   "codemirror_mode": {
    "name": "ipython",
    "version": 3
   },
   "file_extension": ".py",
   "mimetype": "text/x-python",
   "name": "python",
   "nbconvert_exporter": "python",
   "pygments_lexer": "ipython3",
   "version": "3.8.20"
  }
 },
 "nbformat": 4,
 "nbformat_minor": 2
}
