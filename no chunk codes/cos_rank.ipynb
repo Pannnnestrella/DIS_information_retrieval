{
 "cells": [
  {
   "cell_type": "markdown",
   "metadata": {},
   "source": [
    "## cos_rank.ipynb\n",
    "This notebook implements the following tasks:\n",
    "1. Loads precomputed document and query embeddings from pickle files.\n",
    "2. Computes cosine similarity between queries and documents using `sklearn.metrics.pairwise.cosine_similarity`.\n",
    "3. Retrieves the top 10 most relevant documents for each query based on similarity scores.\n",
    "4. Prepares a submission file in CSV format containing query IDs and the corresponding top document IDs.\n",
    "\n",
    "### Output\n",
    "- A submission file (`submission.csv`) is generated, containing query IDs and the top 10 document IDs for each query."
   ]
  },
  {
   "cell_type": "code",
   "execution_count": null,
   "metadata": {},
   "outputs": [],
   "source": [
    "import pickle\n",
    "import pandas as pd\n",
    "import numpy as np\n",
    "from sklearn.metrics.pairwise import cosine_similarity"
   ]
  },
  {
   "cell_type": "code",
   "execution_count": null,
   "metadata": {},
   "outputs": [],
   "source": [
    "# Vector for loading documents and queries\n",
    "with open('../pkl/m3_chunk_128/m3_chunk_128_embedding.pkl', 'rb') as f:\n",
    "    doc_embeddings_dict = pickle.load(f)\n",
    "\n",
    "# Extract document IDs and corresponding vectors\n",
    "doc_ids = list(doc_embeddings_dict.keys())\n",
    "doc_embeddings = np.array([doc_embeddings_dict[doc_id] for doc_id in doc_ids])\n",
    "del doc_embeddings_dict"
   ]
  },
  {
   "cell_type": "code",
   "execution_count": null,
   "metadata": {},
   "outputs": [],
   "source": [
    "with open('../pkl//m3_chunk_128/m3_query_embedding.pkl', 'rb') as f:\n",
    "    query_embeddings_dict = pickle.load(f)\n",
    "\n",
    "# Extract the query ID and corresponding vector\n",
    "query_ids = list(query_embeddings_dict.keys())\n",
    "query_embeddings = np.array([query_embeddings_dict[query_id] for query_id in query_ids])\n",
    "del query_embeddings_dict"
   ]
  },
  {
   "cell_type": "code",
   "execution_count": null,
   "metadata": {},
   "outputs": [],
   "source": [
    "# Calculate the similarity between a query and a document\n",
    "similarity_scores = cosine_similarity(query_embeddings, doc_embeddings)"
   ]
  },
  {
   "cell_type": "code",
   "execution_count": null,
   "metadata": {},
   "outputs": [],
   "source": [
    "# similarity_scores.shape 2000，268022"
   ]
  },
  {
   "cell_type": "code",
   "execution_count": null,
   "metadata": {},
   "outputs": [],
   "source": [
    "# Get the 10 most relevant documents for each query\n",
    "top_k = 10\n",
    "# Returns an indexed array of input arrays sorted in ascending order.\n",
    "retrieved_docs = np.argsort(-similarity_scores, axis=1)[:, :top_k]  # 对相似度从大到小排序，并取前10个文档的索引\n",
    "retrieved_docs.shape"
   ]
  },
  {
   "cell_type": "code",
   "execution_count": null,
   "metadata": {},
   "outputs": [],
   "source": [
    "retrieved_docs[0]"
   ]
  },
  {
   "cell_type": "code",
   "execution_count": null,
   "metadata": {},
   "outputs": [],
   "source": [
    "# Get the corresponding docid\n",
    "top_k_doc_ids = [[doc_ids[idx] for idx in retrieved_docs[i]] for i in range(len(retrieved_docs))]"
   ]
  },
  {
   "cell_type": "code",
   "execution_count": null,
   "metadata": {},
   "outputs": [],
   "source": [
    "id = 0\n",
    "submission = []\n",
    "for i in range(len(query_ids)):\n",
    "    top_docs = top_k_doc_ids[i]\n",
    "    # Ensure that there are 10 document IDs in the predicted_docs column, separated by spaces\n",
    "    submission.append({\n",
    "        'id': id,\n",
    "        'docids': str(' '.join(top_docs).split())\n",
    "    })\n",
    "    id = id + 1\n",
    "\n",
    "# submission.csv\n",
    "submission_df = pd.DataFrame(submission)\n",
    "submission_df.to_csv('submission.csv', index=False)"
   ]
  }
 ],
 "metadata": {
  "kernelspec": {
   "display_name": "kaggle",
   "language": "python",
   "name": "python3"
  },
  "language_info": {
   "codemirror_mode": {
    "name": "ipython",
    "version": 3
   },
   "file_extension": ".py",
   "mimetype": "text/x-python",
   "name": "python",
   "nbconvert_exporter": "python",
   "pygments_lexer": "ipython3",
   "version": "3.8.20"
  }
 },
 "nbformat": 4,
 "nbformat_minor": 2
}
