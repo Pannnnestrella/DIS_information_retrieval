{
 "cells": [
  {
   "cell_type": "markdown",
   "metadata": {},
   "source": [
    "## mpnet_embedding.ipynb\n",
    "This notebook performs the following tasks:\n",
    "1. Loads a specified corpus and a validation dataset.\n",
    "2. Generates semantic embeddings for the corpus texts using the SentenceTransformer model (default: `paraphrase-multilingual-mpnet-base-v2`).\n",
    "3. Saves the generated embeddings as a dictionary with document IDs as keys and exports it to a pickle file for further use.\n",
    "\n",
    "### Output\n",
    "- The embeddings are saved in a pickle file, with the file name associated with the model name."
   ]
  },
  {
   "cell_type": "code",
   "execution_count": 1,
   "metadata": {},
   "outputs": [
    {
     "name": "stderr",
     "output_type": "stream",
     "text": [
      "c:\\Users\\15163\\.conda\\envs\\kaggle\\lib\\site-packages\\sentence_transformers\\cross_encoder\\CrossEncoder.py:13: TqdmWarning: IProgress not found. Please update jupyter and ipywidgets. See https://ipywidgets.readthedocs.io/en/stable/user_install.html\n",
      "  from tqdm.autonotebook import tqdm, trange\n"
     ]
    }
   ],
   "source": [
    "from sentence_transformers import SentenceTransformer\n",
    "import torch\n",
    "import pandas as pd\n",
    "import numpy as np\n",
    "import pickle\n",
    "import json"
   ]
  },
  {
   "cell_type": "code",
   "execution_count": 2,
   "metadata": {},
   "outputs": [
    {
     "name": "stdout",
     "output_type": "stream",
     "text": [
      "Using device: cuda\n"
     ]
    }
   ],
   "source": [
    "if torch.cuda.is_available():\n",
    "    device = \"cuda\"\n",
    "else:\n",
    "    device = \"cpu\"\n",
    "\n",
    "print(f\"Using device: {device}\")"
   ]
  },
  {
   "cell_type": "code",
   "execution_count": 3,
   "metadata": {},
   "outputs": [],
   "source": [
    "# Load the dataset\n",
    "corpus_path = '../dataset/corpus.json'\n",
    "dev_path = '../dataset/dev.csv'\n",
    "\n",
    "# Load the corpus data\n",
    "with open(corpus_path, 'r') as f:\n",
    "    corpus = json.load(f)\n",
    "\n",
    "# Load the dev data\n",
    "dev_df = pd.read_csv(dev_path)\n",
    "\n",
    "# Extract the documents and their ids\n",
    "doc_ids = [doc['docid'] for doc in corpus]\n",
    "doc_texts = [doc['text'] for doc in corpus]"
   ]
  },
  {
   "cell_type": "markdown",
   "metadata": {},
   "source": [
    "Note change the model"
   ]
  },
  {
   "cell_type": "code",
   "execution_count": 4,
   "metadata": {},
   "outputs": [],
   "source": [
    "model_name = 'paraphrase-multilingual-mpnet-base-v2'\n",
    "model = SentenceTransformer(model_name, device=device)"
   ]
  },
  {
   "cell_type": "code",
   "execution_count": null,
   "metadata": {},
   "outputs": [
    {
     "name": "stderr",
     "output_type": "stream",
     "text": [
      "c:\\Users\\15163\\.conda\\envs\\kaggle\\lib\\site-packages\\transformers\\models\\xlm_roberta\\modeling_xlm_roberta.py:371: UserWarning: 1Torch was not compiled with flash attention. (Triggered internally at C:\\cb\\pytorch_1000000000000\\work\\aten\\src\\ATen\\native\\transformers\\cuda\\sdp_utils.cpp:555.)\n",
      "  attn_output = torch.nn.functional.scaled_dot_product_attention(\n"
     ]
    }
   ],
   "source": [
    "doc_embedding = model.encode(doc_texts, batch_size=128, device=device)"
   ]
  },
  {
   "cell_type": "code",
   "execution_count": null,
   "metadata": {},
   "outputs": [],
   "source": [
    "# save result to pickle\n",
    "doc_embedding_dict = {doc_id: embedding for doc_id, embedding in zip(doc_ids, doc_embedding)}\n",
    "with open(f'./{model_name}_doc_embedding.pkl', 'wb') as f:\n",
    "    pickle.dump(doc_embedding_dict, f)"
   ]
  }
 ],
 "metadata": {
  "kernelspec": {
   "display_name": "kaggle",
   "language": "python",
   "name": "python3"
  },
  "language_info": {
   "codemirror_mode": {
    "name": "ipython",
    "version": 3
   },
   "file_extension": ".py",
   "mimetype": "text/x-python",
   "name": "python",
   "nbconvert_exporter": "python",
   "pygments_lexer": "ipython3",
   "version": "3.8.20"
  }
 },
 "nbformat": 4,
 "nbformat_minor": 2
}
