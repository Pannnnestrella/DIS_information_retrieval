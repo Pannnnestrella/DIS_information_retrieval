{
 "cells": [
  {
   "cell_type": "markdown",
   "metadata": {},
   "source": [
    "## M3_ranking.ipynb\n",
    "\n",
    "### Overview\n",
    "Ranking and aggregating document retrieval results based on query embeddings and document chunk embeddings. The key tasks include:\n",
    "1. Loading document chunk embeddings and test query embeddings.\n",
    "2. Using the FAISS library for fast nearest-neighbor retrieval based on cosine similarity.\n",
    "3. Ranking and aggregating the retrieved document chunks to provide a final list of top documents for each query.\n",
    "4. Saving the final ranked results in a submission CSV file.\n",
    "\n",
    "### Output\n",
    "- A submission file (`submission.csv`) containing query IDs and the top-ranked document IDs for each query.\n",
    "- Intermediate outputs include ranked document chunks and aggregated document scores."
   ]
  },
  {
   "cell_type": "code",
   "execution_count": 2,
   "metadata": {},
   "outputs": [
    {
     "name": "stderr",
     "output_type": "stream",
     "text": [
      "c:\\Users\\15163\\.conda\\envs\\kaggle\\lib\\site-packages\\tqdm\\auto.py:21: TqdmWarning: IProgress not found. Please update jupyter and ipywidgets. See https://ipywidgets.readthedocs.io/en/stable/user_install.html\n",
      "  from .autonotebook import tqdm as notebook_tqdm\n"
     ]
    }
   ],
   "source": [
    "import torch\n",
    "import pandas as pd\n",
    "import numpy as np\n",
    "import pickle\n",
    "import json\n",
    "from collections import defaultdict\n",
    "\n",
    "import faiss\n",
    "from FlagEmbedding import FlagModel"
   ]
  },
  {
   "cell_type": "code",
   "execution_count": 3,
   "metadata": {},
   "outputs": [
    {
     "name": "stdout",
     "output_type": "stream",
     "text": [
      "CPU times: total: 719 ms\n",
      "Wall time: 1.48 s\n"
     ]
    }
   ],
   "source": [
    "%%time\n",
    "# Load the document embeddings\n",
    "with open('./m3_chunk_128_embedding_1.pkl', 'rb') as f:\n",
    "    chunk_embedding_dict = pickle.load(f)\n",
    "    \n",
    "chunk_ids = list(chunk_embedding_dict.keys())\n",
    "chunk_embeddings = np.array([chunk_embedding_dict[chunk_id] for chunk_id in chunk_ids]).astype('float32')"
   ]
  },
  {
   "cell_type": "code",
   "execution_count": 4,
   "metadata": {},
   "outputs": [
    {
     "name": "stderr",
     "output_type": "stream",
     "text": [
      "Inference Embeddings:   0%|          | 0/8 [00:00<?, ?it/s]c:\\Users\\15163\\.conda\\envs\\kaggle\\lib\\site-packages\\transformers\\models\\xlm_roberta\\modeling_xlm_roberta.py:371: UserWarning: 1Torch was not compiled with flash attention. (Triggered internally at C:\\cb\\pytorch_1000000000000\\work\\aten\\src\\ATen\\native\\transformers\\cuda\\sdp_utils.cpp:555.)\n",
      "  attn_output = torch.nn.functional.scaled_dot_product_attention(\n",
      "Inference Embeddings: 100%|██████████| 8/8 [00:16<00:00,  2.11s/it]"
     ]
    },
    {
     "name": "stdout",
     "output_type": "stream",
     "text": [
      "CPU times: total: 4.34 s\n",
      "Wall time: 20.1 s\n"
     ]
    },
    {
     "name": "stderr",
     "output_type": "stream",
     "text": [
      "\n"
     ]
    }
   ],
   "source": [
    "%%time\n",
    "\n",
    "# Load the test queries\n",
    "test_path = '../dataset/test.csv'\n",
    "test_df = pd.read_csv(test_path)\n",
    "\n",
    "# Load the model\n",
    "model = FlagModel('BAAI/bge-m3',\n",
    "                  query_instruction_for_retrieval=\"Represent this sentence for searching relevant passages:\",\n",
    "                  use_fp16=True)\n",
    "\n",
    "# Embed the test queries\n",
    "queries = test_df['query'].tolist()\n",
    "query_ids = test_df['id'].tolist()\n",
    "query_embeddings = model.encode(queries).astype('float32')"
   ]
  },
  {
   "cell_type": "markdown",
   "metadata": {},
   "source": [
    "Save query code"
   ]
  },
  {
   "cell_type": "code",
   "execution_count": null,
   "metadata": {},
   "outputs": [],
   "source": [
    "# Store IDs and embedding results in a dictionary\n",
    "chunk_embedding_dict = {query_id: embedding for query_id, embedding in zip(query_ids, query_embeddings)}\n",
    "\n",
    "# Save the result as a pickle file\n",
    "with open('./m3_query_embedding.pkl', 'wb') as f:\n",
    "    pickle.dump(chunk_embedding_dict, f)"
   ]
  },
  {
   "cell_type": "code",
   "execution_count": null,
   "metadata": {},
   "outputs": [],
   "source": [
    "%%time\n",
    "\n",
    "k = 100  # Number of nearest neighbors to retrieve\n",
    "\n",
    "# Normalize the corpus matrix\n",
    "faiss.normalize_L2(chunk_embeddings)\n",
    "\n",
    "# Initialize a FAISS index\n",
    "d = chunk_embeddings.shape[1]  # Dimensionality of embeddings\n",
    "index = faiss.IndexFlatIP(d)  # IP = Inner Product, effectively cosine similarity after normalization\n",
    "index.add(chunk_embeddings)  # Add document embeddings to the FAISS index\n",
    "\n",
    "# Normalize query embeddings\n",
    "faiss.normalize_L2(query_embeddings)\n",
    "\n",
    "# Perform the search and retrieve top 100 results\n",
    "distances, indices = index.search(query_embeddings, k)"
   ]
  },
  {
   "cell_type": "code",
   "execution_count": null,
   "metadata": {},
   "outputs": [],
   "source": [
    "# Map the indices back to document IDs\n",
    "top_k_chunks = {\n",
    "    query_id: [chunk_ids[idx] for idx in indices[i]]\n",
    "    for i, query_id in enumerate(query_ids)\n",
    "}\n",
    "\n",
    "# Optional: Convert results to a DataFrame for easier access\n",
    "top_k_chunks_df = pd.DataFrame({\n",
    "    'id': query_ids,\n",
    "    'chunkids': [top_k_chunks[qid] for qid in query_ids]\n",
    "})\n",
    "\n",
    "# Display the top results\n",
    "top_k_chunks_df.head()"
   ]
  },
  {
   "cell_type": "code",
   "execution_count": null,
   "metadata": {},
   "outputs": [],
   "source": [
    "def rank_and_aggregate(df, aggregate_num=10):\n",
    "    results = {}\n",
    "\n",
    "    # Loop through each query's candidates\n",
    "    for _, row in df.iterrows():\n",
    "        doc_scores = defaultdict(float)\n",
    "        query_id = row['id']\n",
    "        chunks = row['chunkids']\n",
    "\n",
    "        # Weight each chunk based on its position in the list (higher rank -> higher weight)\n",
    "        for rank, chunk_id in enumerate(chunks, start=1):\n",
    "            # Extract the document ID part (everything before \"_chunk\")\n",
    "            doc_id = \"_\".join(chunk_id.split(\"_\")[:-2])\n",
    "            # Calculate weight, for example, inversely proportional to the rank\n",
    "            score = 1 / rank  # Adjust the weighting function if needed\n",
    "\n",
    "            # Aggregate scores for each document\n",
    "            doc_scores[doc_id] += score\n",
    "\n",
    "        # Get the top 10 documents based on cumulative scores\n",
    "        top_docs = sorted(doc_scores.items(), key=lambda x: x[1], reverse=True)[:aggregate_num]\n",
    "        results[query_id] = [doc for doc, score in top_docs]\n",
    "\n",
    "    # Convert results to DataFrame for easier access\n",
    "    top_results_df = pd.DataFrame(list(results.items()), columns=['id', 'docids'])\n",
    "    return top_results_df\n",
    "\n",
    "# Apply the function\n",
    "top_results_df = rank_and_aggregate(top_k_chunks_df)\n",
    "top_results_df.head()  # Display the top results"
   ]
  },
  {
   "cell_type": "code",
   "execution_count": null,
   "metadata": {},
   "outputs": [],
   "source": [
    "# Create the submission DataFrame\n",
    "submission_df = pd.DataFrame(top_results_df)\n",
    "\n",
    "# Save the submission file\n",
    "submission_df.to_csv('/kaggle/working/submission.csv', index=False)"
   ]
  }
 ],
 "metadata": {
  "kernelspec": {
   "display_name": "kaggle",
   "language": "python",
   "name": "python3"
  },
  "language_info": {
   "codemirror_mode": {
    "name": "ipython",
    "version": 3
   },
   "file_extension": ".py",
   "mimetype": "text/x-python",
   "name": "python",
   "nbconvert_exporter": "python",
   "pygments_lexer": "ipython3",
   "version": "3.8.20"
  }
 },
 "nbformat": 4,
 "nbformat_minor": 2
}
